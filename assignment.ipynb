{
 "cells": [
  {
   "cell_type": "markdown",
   "id": "2cd9945d-6730-4c56-b353-db13c8693a48",
   "metadata": {},
   "source": [
    "### AWS Week 2 Assignment : Roshani Vijayan\n",
    "\n",
    "I want a function which takes in 2 inputs and if both are numeric then add, subtract, multiply, percent\n",
    "\n",
    "if both are non-numeric then just concat and tell that rest of the operations are not applicable\n",
    "\n",
    "if only one numeric then convert the numeric to text and concat and multiply \n",
    "\n",
    "Sample Input 1 : 2,3\n",
    "\n",
    "print(2+3)\n",
    "\n",
    "print(2-3)\n",
    "\n",
    "print(3+3)\n",
    "\n",
    "print(2/3)\n",
    "\n",
    "Sample Ouput 1 : 5, -1, 6, 66%\n",
    "\n",
    "Sample Input 2 : Hi, Raju\n",
    "\n",
    "Sample Ouput 2 : \"Hi Raju\",\"Other operations are not applicable“\n",
    "\n",
    "Sample Input 3 : 2, Raju\n",
    "\n",
    "Sample Output 3 : \"2Raju\", \"RajuRaju\"\n",
    "\n",
    "Save the output file: \"W2_Raju.docx/py/ipby\""
   ]
  },
  {
   "cell_type": "code",
   "execution_count": 5,
   "id": "43a39688-6604-400e-8942-56e5d43e58af",
   "metadata": {
    "tags": []
   },
   "outputs": [
    {
     "name": "stdin",
     "output_type": "stream",
     "text": [
      " 2,Raju\n"
     ]
    },
    {
     "name": "stdout",
     "output_type": "stream",
     "text": [
      "\"2Raju\", \"RajuRaju\"\n"
     ]
    }
   ],
   "source": [
    "def perform_operations(input_a, input_b):\n",
    "    if isinstance(input_a, (int, float)) and isinstance(input_b, (int, float)):\n",
    "        addition = int(input_a + input_b) if (input_a + input_b).is_integer() else input_a + input_b\n",
    "        difference = int(input_a - input_b) if (input_a - input_b).is_integer() else input_a - input_b\n",
    "        product = int(input_a * input_b) if (input_a * input_b).is_integer() else input_a * input_b\n",
    "        percentage = round((input_a / input_b) * 100)\n",
    "        return f\"{addition}, {difference}, {product}, {percentage}%\"\n",
    "    elif not isinstance(input_a, (int, float)) and not isinstance(input_b, (int, float)):\n",
    "        combined_str = f\"{input_a} {input_b}\"\n",
    "        return f'\"{combined_str}\", \"Other operations are not applicable\"'\n",
    "    else:\n",
    "        if isinstance(input_a, (int, float)):\n",
    "            input_a = int(input_a) if input_a.is_integer() else input_a\n",
    "            input_a = str(input_a)\n",
    "        if isinstance(input_b, (int, float)):\n",
    "            input_b = int(input_b) if input_b.is_integer() else input_b\n",
    "            input_b = str(input_b)\n",
    "        \n",
    "        combination = input_a + input_b\n",
    "        repeat_str = input_b * 2 if not isinstance(input_a, (int, float)) else input_a * 2\n",
    "        return f'\"{combination}\", \"{repeat_str}\"'\n",
    "\n",
    "def retrieve_inputs():\n",
    "    user_input = input().split(',') #Enter two values separated by a comma (e.g., 2,Raju)\n",
    "    processed_inputs = []\n",
    "    for item in user_input:\n",
    "        item = item.strip()  # Remove any leading or trailing spaces\n",
    "        try:\n",
    "            processed_inputs.append(float(item))\n",
    "        except ValueError:\n",
    "            processed_inputs.append(item)\n",
    "    return tuple(processed_inputs)\n",
    "\n",
    "first_input, second_input = retrieve_inputs()\n",
    "output_str = perform_operations(first_input, second_input)\n",
    "print(output_str)\n",
    "\n",
    "# Save to a file\n",
    "with open(\"W2_Raju.docx\", \"w\") as file_handle:\n",
    "    file_handle.write(output_str)\n"
   ]
  },
  {
   "cell_type": "code",
   "execution_count": null,
   "id": "5db89d87-f4c4-47c0-a154-fc8a2068d7f7",
   "metadata": {},
   "outputs": [],
   "source": []
  }
 ],
 "metadata": {
  "kernelspec": {
   "display_name": "Python 3 (ipykernel)",
   "language": "python",
   "name": "python3"
  },
  "language_info": {
   "codemirror_mode": {
    "name": "ipython",
    "version": 3
   },
   "file_extension": ".py",
   "mimetype": "text/x-python",
   "name": "python",
   "nbconvert_exporter": "python",
   "pygments_lexer": "ipython3",
   "version": "3.11.0"
  }
 },
 "nbformat": 4,
 "nbformat_minor": 5
}
