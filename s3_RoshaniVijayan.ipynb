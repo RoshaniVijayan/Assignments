{
 "cells": [
  {
   "cell_type": "markdown",
   "id": "1510a322-0578-4558-b4ff-4aa68b288373",
   "metadata": {},
   "source": [
    "### Question 1:\n",
    "\n",
    "Write a Python program/function to print the sum, largest number, smallest number, average of the numbers in a list.\n",
    "\n",
    "\n",
    "INPUT: [1,2,3,4,5] \n",
    "\n",
    "OUTPUT:\n",
    "Sum: 15 \n",
    "Max: 5\n",
    "Min: 1\n",
    "Mean:3"
   ]
  },
  {
   "cell_type": "code",
   "execution_count": 1,
   "id": "bbd63bac-dd07-42ed-9ddf-1983099045b9",
   "metadata": {},
   "outputs": [
    {
     "name": "stdin",
     "output_type": "stream",
     "text": [
      "Enter a list of numbers separated by commas:  1,2,3,4,5\n"
     ]
    },
    {
     "name": "stdout",
     "output_type": "stream",
     "text": [
      "Sum: 15\n",
      "Max: 5\n",
      "Min: 1\n",
      "Mean: 3.0\n"
     ]
    }
   ],
   "source": [
    "def calculation(list):\n",
    "    # Initialize variables to store the sum, max, and min values\n",
    "    total_sum = 0\n",
    "    max_num = list[0]\n",
    "    min_num = list[0]\n",
    "\n",
    "    # Iterate through all numbers in list to calculate sum, max, and min\n",
    "    for num in list:\n",
    "        total_sum += num\n",
    "        if num > max_num:\n",
    "            max_num = num\n",
    "        if num < min_num:\n",
    "            min_num = num\n",
    "\n",
    "    # Calculate the mean (average) of the numbers\n",
    "    mean_value = total_sum / len(list)\n",
    "\n",
    "    return total_sum, max_num, min_num, mean_value\n",
    "\n",
    "def main():\n",
    "    # Ask the user for a list of numbers separated by commas\n",
    "    numbers_input = input(\"Enter a list of numbers separated by commas: \")\n",
    "    \n",
    "    # Convert the input string into a list of integers\n",
    "    list = [int(n.strip()) for n in numbers_input.split(',')]\n",
    "    \n",
    "    # Calculate statistics for the list\n",
    "    total_sum, max_num, min_num, mean_value = calculation(list)\n",
    "    \n",
    "    # Print the results\n",
    "    print(f\"Sum: {total_sum}\")\n",
    "    print(f\"Max: {max_num}\")\n",
    "    print(f\"Min: {min_num}\")\n",
    "    print(f\"Mean: {mean_value}\")\n",
    "\n",
    "if __name__ == \"__main__\":\n",
    "    main()\n"
   ]
  },
  {
   "cell_type": "markdown",
   "id": "27db0c29-f4ab-4516-a0d7-da75cd87d604",
   "metadata": {},
   "source": [
    "### Question 2:\n",
    "\n",
    "Write a Python function that asks user to input two lists of strings. The code returns True if they have at least one common member.\n",
    "\n",
    "Example:\n",
    "\n",
    "Input first list of strings :\n",
    "\n",
    "eg. [“Tom”, “Bob”, “Sue”, “Rachel”], [“Bob”, “Susan”, “Roger”, “Mike”]\n",
    "\n",
    "Returns true as Bob is common."
   ]
  },
  {
   "cell_type": "code",
   "execution_count": 2,
   "id": "6846fc01-d6e4-458a-88a5-87c667af49a7",
   "metadata": {},
   "outputs": [
    {
     "name": "stdin",
     "output_type": "stream",
     "text": [
      "Enter the first list of strings with each string in inverted commas (e.g., 'apple', 'banana'):  “Tom”, “Bob”, “Sue”, “Rachel”\n",
      "Enter the second list of strings with each string in inverted commas (e.g., 'cherry', 'date'):  “Bob”, “Susan”, “Roger”, “Mike”\n"
     ]
    },
    {
     "name": "stdout",
     "output_type": "stream",
     "text": [
      "Common member exists in two lists?  True\n"
     ]
    }
   ],
   "source": [
    "def input_list(prompt):\n",
    "    # Prompt the user for a list input\n",
    "    user_input = input(prompt)\n",
    "    # Split the input string on commas and strip each element of whitespace and quotes\n",
    "    items = [item.strip(\" '\\\"\") for item in user_input.split(',')]\n",
    "    return items\n",
    "\n",
    "def common_member(list1, list2):\n",
    "    # Iterate over each item in the first list\n",
    "    for item1 in list1:\n",
    "        # For each item in the first list, check all items in the second list\n",
    "        for item2 in list2:\n",
    "            # If there is a match, return True\n",
    "            if item1 == item2:\n",
    "                return True\n",
    "    # If we complete the loops without finding a match, return False\n",
    "    return False\n",
    "\n",
    "# Get the first list from the user\n",
    "my_list1 = input_list(\"Enter the first list of strings with each string in inverted commas (e.g., 'apple', 'banana'): \")\n",
    "\n",
    "# Get the second list from the user\n",
    "my_list2 = input_list(\"Enter the second list of strings with each string in inverted commas (e.g., 'cherry', 'date'): \")\n",
    "\n",
    "# Call the function and print the result\n",
    "common_exists = common_member(my_list1, my_list2)\n",
    "print(\"Common member exists in two lists? \", common_exists)\n"
   ]
  },
  {
   "cell_type": "markdown",
   "id": "15256566-6641-4eb8-b30b-b94028d92585",
   "metadata": {},
   "source": [
    "### Question 3\n",
    "\n",
    "Write a Python program/function to combine two dictionary adding values for common keys.\n",
    "\n",
    "eg.\n",
    "\n",
    "d1 = {'a': 100, 'b': 200, 'c':300}\n",
    "d2 = {'a': 300, 'b': 200, 'd':400}\n",
    "\n",
    "Sample output: Counter({'a': 400, 'b': 400, 'd': 400, 'c': 300})"
   ]
  },
  {
   "cell_type": "code",
   "execution_count": 3,
   "id": "215dacfe-8498-41fa-8d80-31d5356c64ec",
   "metadata": {},
   "outputs": [
    {
     "name": "stdin",
     "output_type": "stream",
     "text": [
      "Enter a dictionary (e.g., {'a': 100, 'b': 200}):   {'a': 100, 'b': 200, 'c':300}\n"
     ]
    },
    {
     "name": "stdout",
     "output_type": "stream",
     "text": [
      "Input is not a valid dictionary. Please try again.\n"
     ]
    },
    {
     "name": "stdin",
     "output_type": "stream",
     "text": [
      "Enter a dictionary (e.g., {'a': 100, 'b': 200}):  d2 = {'a': 300, 'b': 200, 'd':400}\n"
     ]
    },
    {
     "name": "stdout",
     "output_type": "stream",
     "text": [
      "Input is not a valid dictionary. Please try again.\n"
     ]
    },
    {
     "name": "stdin",
     "output_type": "stream",
     "text": [
      "Enter a dictionary (e.g., {'a': 100, 'b': 200}):  {'a': 100, 'b': 200, 'c':300}\n",
      "Enter a dictionary (e.g., {'a': 100, 'b': 200}):  {'a': 300, 'b': 200, 'd':400}\n"
     ]
    },
    {
     "name": "stdout",
     "output_type": "stream",
     "text": [
      "Combined dictionary: {'a': 400, 'b': 400, 'c': 300, 'd': 400}\n"
     ]
    }
   ],
   "source": [
    "import ast\n",
    "# We can prompt the user to input dictionaries using the ast.literal_eval() function, \n",
    "# THis can safely evaluate a string containing a Python literal or container display. \n",
    "\n",
    "def input_dict(prompt):\n",
    "    while True:\n",
    "        user_input = input(prompt)\n",
    "        try:\n",
    "            # Safely evaluate the input string as a Python dictionary\n",
    "            dictionary = ast.literal_eval(user_input)\n",
    "            if isinstance(dictionary, dict):\n",
    "                return dictionary\n",
    "            else:\n",
    "                print(\"Input is not a valid dictionary. Please try again.\")\n",
    "        except (SyntaxError, ValueError):\n",
    "            print(\"Input is not a valid dictionary. Please try again.\")\n",
    "\n",
    "def combine_dictionaries(d1, d2):\n",
    "    combined = {}\n",
    "    # Add all items from the first dictionary to the combined dictionary\n",
    "    for key in d1:\n",
    "        combined[key] = d1.get(key, 0) + d2.get(key, 0)\n",
    "    # Add items from the second dictionary only if the key isn't in the first dictionary\n",
    "    for key in d2:\n",
    "        if key not in d1:\n",
    "            combined[key] = d2[key]\n",
    "    return combined\n",
    "\n",
    "# Prompt the user for two dictionaries\n",
    "dict_prompt = \"Enter a dictionary (e.g., {'a': 100, 'b': 200}): \"\n",
    "d1 = input_dict(dict_prompt)\n",
    "d2 = input_dict(dict_prompt)\n",
    "\n",
    "# Combine the dictionaries and print the result\n",
    "combined_dict = combine_dictionaries(d1, d2)\n",
    "print(\"Combined dictionary:\", combined_dict)\n",
    "\n"
   ]
  },
  {
   "cell_type": "markdown",
   "id": "623d69cb-c7ff-4d46-a57e-280a8ec29413",
   "metadata": {},
   "source": [
    "### Question 4:\n",
    "\n",
    "Write a Python program/function which iterates the integers from 1 to 100. \n",
    "For multiples of three print \"Fizz\" instead of the number and for the multiples of five print \"Buzz\". \n",
    "For numbers which are multiples of both three and five print \"FizzBuzz\". \n",
    "\n",
    "Sample Output :\n",
    "fizzbuzz 1\n",
    "2\n",
    "fizz\n",
    "4\n",
    "buzz"
   ]
  },
  {
   "cell_type": "code",
   "execution_count": 4,
   "id": "8e1478f2-64f8-4b42-9ca8-4b4facb5a991",
   "metadata": {},
   "outputs": [
    {
     "name": "stdout",
     "output_type": "stream",
     "text": [
      "1\n",
      "2\n",
      "Fizz\n",
      "4\n",
      "Buzz\n",
      "Fizz\n",
      "7\n",
      "8\n",
      "Fizz\n",
      "Buzz\n",
      "11\n",
      "Fizz\n",
      "13\n",
      "14\n",
      "FizzBuzz\n",
      "16\n",
      "17\n",
      "Fizz\n",
      "19\n",
      "Buzz\n",
      "Fizz\n",
      "22\n",
      "23\n",
      "Fizz\n",
      "Buzz\n",
      "26\n",
      "Fizz\n",
      "28\n",
      "29\n",
      "FizzBuzz\n",
      "31\n",
      "32\n",
      "Fizz\n",
      "34\n",
      "Buzz\n",
      "Fizz\n",
      "37\n",
      "38\n",
      "Fizz\n",
      "Buzz\n",
      "41\n",
      "Fizz\n",
      "43\n",
      "44\n",
      "FizzBuzz\n",
      "46\n",
      "47\n",
      "Fizz\n",
      "49\n",
      "Buzz\n",
      "Fizz\n",
      "52\n",
      "53\n",
      "Fizz\n",
      "Buzz\n",
      "56\n",
      "Fizz\n",
      "58\n",
      "59\n",
      "FizzBuzz\n",
      "61\n",
      "62\n",
      "Fizz\n",
      "64\n",
      "Buzz\n",
      "Fizz\n",
      "67\n",
      "68\n",
      "Fizz\n",
      "Buzz\n",
      "71\n",
      "Fizz\n",
      "73\n",
      "74\n",
      "FizzBuzz\n",
      "76\n",
      "77\n",
      "Fizz\n",
      "79\n",
      "Buzz\n",
      "Fizz\n",
      "82\n",
      "83\n",
      "Fizz\n",
      "Buzz\n",
      "86\n",
      "Fizz\n",
      "88\n",
      "89\n",
      "FizzBuzz\n",
      "91\n",
      "92\n",
      "Fizz\n",
      "94\n",
      "Buzz\n",
      "Fizz\n",
      "97\n",
      "98\n",
      "Fizz\n",
      "Buzz\n"
     ]
    }
   ],
   "source": [
    "def fizz_buzz():\n",
    "    for number in range(1, 101):\n",
    "        if number % 3 == 0 and number % 5 == 0:\n",
    "            print(\"FizzBuzz\")\n",
    "        elif number % 3 == 0:\n",
    "            print(\"Fizz\")\n",
    "        elif number % 5 == 0:\n",
    "            print(\"Buzz\")\n",
    "        else:\n",
    "            print(number)\n",
    "\n",
    "# Call the function\n",
    "fizz_buzz()\n"
   ]
  },
  {
   "cell_type": "markdown",
   "id": "8646d270-2240-4c19-9da0-40b71a1030e5",
   "metadata": {},
   "source": [
    "### Question 5:\n",
    "\n",
    "Write a Python program/function to check the validity of password input by users.\n",
    "\n",
    "Validation :\n",
    "• At least 1 letter between [a-z] and 1 letter between [A-Z].\n",
    "• At least 1 number between [0-9].\n",
    "• At least 1 character from [$#@].\n",
    "• Minimum length 6 characters.\n",
    "• Maximum length 16 characters."
   ]
  },
  {
   "cell_type": "code",
   "execution_count": 5,
   "id": "576b9c9d-439f-4863-9eb8-7fee259a3f20",
   "metadata": {},
   "outputs": [
    {
     "name": "stdin",
     "output_type": "stream",
     "text": [
      "Enter your password for validation:  RoshaniVijayan@15\n"
     ]
    },
    {
     "name": "stdout",
     "output_type": "stream",
     "text": [
      "Invalid! Password must be between 6 and 16 characters long.\n"
     ]
    }
   ],
   "source": [
    "def validate_password(password):\n",
    "    # Check the length of password\n",
    "    if not 6 <= len(password) <= 16:\n",
    "        return \"Invalid! Password must be between 6 and 16 characters long.\"\n",
    "\n",
    "    # Check for the presence of at least one lowercase letter\n",
    "    if not any(char.islower() for char in password):\n",
    "        return \"Invalid! Password must contain at least one lowercase letter.\"\n",
    "\n",
    "    # Check for the presence of at least one uppercase letter\n",
    "    if not any(char.isupper() for char in password):\n",
    "        return \"Invalid! Password must contain at least one uppercase letter.\"\n",
    "\n",
    "    # Check for the presence of at least one digit\n",
    "    if not any(char.isdigit() for char in password):\n",
    "        return \"Invalid! Password must contain at least one digit.\"\n",
    "\n",
    "    # Check for the presence of at least one special character\n",
    "    special_characters = \"$#@\"\n",
    "    if not any(char in special_characters for char in password):\n",
    "        return \"Invalid! Password must contain at least one special character from [$#@].\"\n",
    "\n",
    "    # If all conditions are met\n",
    "    return \"Password is valid.\"\n",
    "\n",
    "# Main program\n",
    "if __name__ == \"__main__\":\n",
    "    user_password = input(\"Enter your password for validation: \")\n",
    "    result = validate_password(user_password)\n",
    "    print(result)\n"
   ]
  },
  {
   "cell_type": "markdown",
   "id": "e3640df1-a59e-439f-bd10-7f7bd885aa3d",
   "metadata": {},
   "source": [
    "### Question 6\n",
    "\n",
    "Write a Python function that takes a list and returns a new list with unique elements of the first list.\n",
    "List to be input by user separated by commas.\n",
    "\n",
    "Sample List : [1,2,3,3,3,3,4,5]\n",
    "Unique List : [1, 2, 3, 4, 5]"
   ]
  },
  {
   "cell_type": "code",
   "execution_count": 6,
   "id": "6e8a5240-bb34-46fe-9f4d-4ed16651bb35",
   "metadata": {},
   "outputs": [
    {
     "name": "stdin",
     "output_type": "stream",
     "text": [
      "Enter the list of numbers separated by commas:  1,2,3,3,3,3,4,5\n"
     ]
    },
    {
     "name": "stdout",
     "output_type": "stream",
     "text": [
      "Unique List: [1, 2, 3, 4, 5]\n"
     ]
    }
   ],
   "source": [
    "def get_unique_list():\n",
    "    # Prompt the user for a list input separated by commas\n",
    "    list_str = input(\"Enter the list of numbers separated by commas: \")\n",
    "    # Convert the input string to a list of integers\n",
    "    input_list = list(map(int, list_str.split(',')))\n",
    "    # Create a new list to store unique elements\n",
    "    unique_list = []\n",
    "\n",
    "    # Loop over the input list and add only unique elements to the unique_list\n",
    "    for number in input_list:\n",
    "        if number not in unique_list:\n",
    "            unique_list.append(number)\n",
    "\n",
    "    return unique_list\n",
    "\n",
    "# Call the function and print the unique list\n",
    "print(\"Unique List:\", get_unique_list())\n"
   ]
  },
  {
   "cell_type": "markdown",
   "id": "43c879cc-306a-45f5-a7ae-f76e833a97be",
   "metadata": {},
   "source": [
    "### Question 7:\n",
    "\n",
    "Write a function which calculates the length of a hypotenuse of a right angle triangle given height and base.\n",
    "\n",
    "Hint: Pythagorean theorem"
   ]
  },
  {
   "cell_type": "code",
   "execution_count": 7,
   "id": "6e94e9cf-2798-4999-b1b6-f9393cd2be69",
   "metadata": {},
   "outputs": [
    {
     "name": "stdin",
     "output_type": "stream",
     "text": [
      "Enter the height of the triangle:  3\n",
      "Enter the base of the triangle:  4\n"
     ]
    },
    {
     "name": "stdout",
     "output_type": "stream",
     "text": [
      "The length of the hypotenuse is: 5.0\n"
     ]
    }
   ],
   "source": [
    "def calculate_hypotenuse(height, base):\n",
    "    # Calculate the hypotenuse using Pythagorean theorem\n",
    "    hypotenuse = (height**2 + base**2) ** 0.5\n",
    "    return hypotenuse\n",
    "\n",
    "# Input height and base of a triange:\n",
    "height = float(input(\"Enter the height of the triangle: \"))\n",
    "base = float(input(\"Enter the base of the triangle: \"))\n",
    "\n",
    "hypotenuse = calculate_hypotenuse(height, base)\n",
    "print(f\"The length of the hypotenuse is: {hypotenuse}\")\n"
   ]
  },
  {
   "cell_type": "markdown",
   "id": "ea30f132-915b-494d-b0cb-5d6ae2f4f229",
   "metadata": {},
   "source": [
    "### Question 8\n",
    "\n",
    "Write a Python code to find Scrabble score:\n",
    "\n",
    "User has to input a word in inverted comma and Python code has to compute the Scrabble score for that word where the letter values are as follows : \n",
    "\n",
    "Letter                                  Value\n",
    "A, E, I, O, U, L, N, R, S, T            1\n",
    "D, G                                    2 \n",
    "B, C, M, P                              3 \n",
    "F, H, V, W, Y                           4 \n",
    "K                                       5 \n",
    "J, X                                    8 \n",
    "Q, Z                                    10\n",
    "\n",
    "eg. “Cabbage” is worth 14 points"
   ]
  },
  {
   "cell_type": "code",
   "execution_count": 8,
   "id": "f468b2db-8976-4bce-9b02-ba35eee30d11",
   "metadata": {},
   "outputs": [
    {
     "name": "stdin",
     "output_type": "stream",
     "text": [
      "Enter a word to calculate its Scrabble score:  Cabbage\n"
     ]
    },
    {
     "name": "stdout",
     "output_type": "stream",
     "text": [
      "The Scrabble score for 'Cabbage' is 14.\n"
     ]
    }
   ],
   "source": [
    "def scrabble_score(word):\n",
    "    # Define the scores for each letter\n",
    "    scores = {\n",
    "        'A': 1, 'E': 1, 'I': 1, 'O': 1, 'U': 1, 'L': 1, 'N': 1, 'R': 1, 'S': 1, 'T': 1,\n",
    "        'D': 2, 'G': 2,\n",
    "        'B': 3, 'C': 3, 'M': 3, 'P': 3,\n",
    "        'F': 4, 'H': 4, 'V': 4, 'W': 4, 'Y': 4,\n",
    "        'K': 5,\n",
    "        'J': 8, 'X': 8,\n",
    "        'Q': 10, 'Z': 10\n",
    "    }\n",
    "    \n",
    "    # Convert the word to uppercase to match the dictionary keys\n",
    "    word = word.upper()\n",
    "    \n",
    "    # Calculate the score for the word\n",
    "    score = sum(scores[letter] for letter in word if letter in scores)\n",
    "    return score\n",
    "\n",
    "# Get word input from the user\n",
    "user_input = input(\"Enter a word to calculate its Scrabble score: \")\n",
    "# Assuming the user inputs the word with inverted commas\n",
    "word = user_input.strip('\"\\'')  # Remove the inverted commas if present\n",
    "\n",
    "# Calculate and print the score\n",
    "print(f\"The Scrabble score for '{word}' is {scrabble_score(word)}.\")\n"
   ]
  },
  {
   "cell_type": "markdown",
   "id": "1a0cce6e-5b24-49cc-815a-b5b2bc3bf5d4",
   "metadata": {},
   "source": [
    "### Question 9: \n",
    "\n",
    "Write a Python program to find the greatest common divisor (gcd) of two integers.\n",
    "\n",
    "Hint: this is a recursive function"
   ]
  },
  {
   "cell_type": "code",
   "execution_count": 9,
   "id": "379a2ca0-68f2-4e1d-ab9d-2bc04ae00136",
   "metadata": {},
   "outputs": [
    {
     "name": "stdin",
     "output_type": "stream",
     "text": [
      "Enter the first integer:  10\n",
      "Enter the second integer:  25\n"
     ]
    },
    {
     "name": "stdout",
     "output_type": "stream",
     "text": [
      "The greatest common divisor of 10 and 25 is 5.\n"
     ]
    }
   ],
   "source": [
    "def gcd(a, b):\n",
    "    \"\"\"\n",
    "    Calculate the Greatest Common Divisor of a and b.\n",
    "\n",
    "    Unless b==0, the result will have the same sign as b (so that when\n",
    "    b is divided by it, the result comes out positive).\n",
    "    \"\"\"\n",
    "    if b == 0:\n",
    "        return a\n",
    "    else:\n",
    "        return gcd(b, a % b)\n",
    "\n",
    "# Get input from the user\n",
    "num1 = int(input(\"Enter the first integer: \"))\n",
    "num2 = int(input(\"Enter the second integer: \"))\n",
    "\n",
    "# Calculate GCD\n",
    "greatest_common_divisor = gcd(num1, num2)\n",
    "\n",
    "# Print the result\n",
    "print(f\"The greatest common divisor of {num1} and {num2} is {greatest_common_divisor}.\")\n"
   ]
  },
  {
   "cell_type": "code",
   "execution_count": null,
   "id": "45acc84f-6286-42f6-827d-510b1dac2189",
   "metadata": {},
   "outputs": [],
   "source": []
  }
 ],
 "metadata": {
  "kernelspec": {
   "display_name": "Python 3 (ipykernel)",
   "language": "python",
   "name": "python3"
  },
  "language_info": {
   "codemirror_mode": {
    "name": "ipython",
    "version": 3
   },
   "file_extension": ".py",
   "mimetype": "text/x-python",
   "name": "python",
   "nbconvert_exporter": "python",
   "pygments_lexer": "ipython3",
   "version": "3.9.13"
  }
 },
 "nbformat": 4,
 "nbformat_minor": 5
}
